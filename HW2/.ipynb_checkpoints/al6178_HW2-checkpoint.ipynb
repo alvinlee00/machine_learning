{
 "cells": [
  {
   "cell_type": "markdown",
   "metadata": {
    "pycharm": {
     "name": "#%% md\n"
    },
    "tags": []
   },
   "source": [
    "# Homework 2: Linear Regression\n",
    "\n",
    "The is the coding potion of Homework 2. The homework is aimed at testing the ability to deal with a real-world dataset and use linear regression on it."
   ]
  },
  {
   "cell_type": "code",
   "execution_count": 63,
   "metadata": {
    "pycharm": {
     "name": "#%%\n"
    }
   },
   "outputs": [],
   "source": [
    "import numpy as np\n",
    "import pandas as pd\n",
    "\n",
    "# Plotting libraries\n",
    "import matplotlib.pyplot as plt\n",
    "import seaborn as sns\n",
    "\n",
    "%matplotlib inline"
   ]
  },
  {
   "cell_type": "markdown",
   "metadata": {
    "pycharm": {
     "name": "#%% md\n"
    }
   },
   "source": [
    "### Load Dataset\n",
    "Loading the California Housing dataset using sklearn."
   ]
  },
  {
   "cell_type": "code",
   "execution_count": 64,
   "metadata": {
    "pycharm": {
     "name": "#%%\n"
    }
   },
   "outputs": [],
   "source": [
    "# Load dataset\n",
    "from sklearn.datasets import fetch_california_housing\n",
    "housing = fetch_california_housing()"
   ]
  },
  {
   "cell_type": "markdown",
   "metadata": {
    "pycharm": {
     "name": "#%% md\n"
    }
   },
   "source": [
    "## Part 1 : Analyse the dataset"
   ]
  },
  {
   "cell_type": "code",
   "execution_count": 65,
   "metadata": {
    "pycharm": {
     "name": "#%%\n"
    }
   },
   "outputs": [
    {
     "data": {
      "text/html": [
       "<div>\n",
       "<style scoped>\n",
       "    .dataframe tbody tr th:only-of-type {\n",
       "        vertical-align: middle;\n",
       "    }\n",
       "\n",
       "    .dataframe tbody tr th {\n",
       "        vertical-align: top;\n",
       "    }\n",
       "\n",
       "    .dataframe thead th {\n",
       "        text-align: right;\n",
       "    }\n",
       "</style>\n",
       "<table border=\"1\" class=\"dataframe\">\n",
       "  <thead>\n",
       "    <tr style=\"text-align: right;\">\n",
       "      <th></th>\n",
       "      <th>MedInc</th>\n",
       "      <th>HouseAge</th>\n",
       "      <th>AveRooms</th>\n",
       "      <th>AveBedrms</th>\n",
       "      <th>Population</th>\n",
       "      <th>AveOccup</th>\n",
       "      <th>Latitude</th>\n",
       "      <th>Longitude</th>\n",
       "      <th>target</th>\n",
       "    </tr>\n",
       "  </thead>\n",
       "  <tbody>\n",
       "    <tr>\n",
       "      <th>0</th>\n",
       "      <td>8.3252</td>\n",
       "      <td>41.0</td>\n",
       "      <td>6.984127</td>\n",
       "      <td>1.023810</td>\n",
       "      <td>322.0</td>\n",
       "      <td>2.555556</td>\n",
       "      <td>37.88</td>\n",
       "      <td>-122.23</td>\n",
       "      <td>4.526</td>\n",
       "    </tr>\n",
       "    <tr>\n",
       "      <th>1</th>\n",
       "      <td>8.3014</td>\n",
       "      <td>21.0</td>\n",
       "      <td>6.238137</td>\n",
       "      <td>0.971880</td>\n",
       "      <td>2401.0</td>\n",
       "      <td>2.109842</td>\n",
       "      <td>37.86</td>\n",
       "      <td>-122.22</td>\n",
       "      <td>3.585</td>\n",
       "    </tr>\n",
       "    <tr>\n",
       "      <th>2</th>\n",
       "      <td>7.2574</td>\n",
       "      <td>52.0</td>\n",
       "      <td>8.288136</td>\n",
       "      <td>1.073446</td>\n",
       "      <td>496.0</td>\n",
       "      <td>2.802260</td>\n",
       "      <td>37.85</td>\n",
       "      <td>-122.24</td>\n",
       "      <td>3.521</td>\n",
       "    </tr>\n",
       "    <tr>\n",
       "      <th>3</th>\n",
       "      <td>5.6431</td>\n",
       "      <td>52.0</td>\n",
       "      <td>5.817352</td>\n",
       "      <td>1.073059</td>\n",
       "      <td>558.0</td>\n",
       "      <td>2.547945</td>\n",
       "      <td>37.85</td>\n",
       "      <td>-122.25</td>\n",
       "      <td>3.413</td>\n",
       "    </tr>\n",
       "    <tr>\n",
       "      <th>4</th>\n",
       "      <td>3.8462</td>\n",
       "      <td>52.0</td>\n",
       "      <td>6.281853</td>\n",
       "      <td>1.081081</td>\n",
       "      <td>565.0</td>\n",
       "      <td>2.181467</td>\n",
       "      <td>37.85</td>\n",
       "      <td>-122.25</td>\n",
       "      <td>3.422</td>\n",
       "    </tr>\n",
       "  </tbody>\n",
       "</table>\n",
       "</div>"
      ],
      "text/plain": [
       "   MedInc  HouseAge  AveRooms  AveBedrms  Population  AveOccup  Latitude  \\\n",
       "0  8.3252      41.0  6.984127   1.023810       322.0  2.555556     37.88   \n",
       "1  8.3014      21.0  6.238137   0.971880      2401.0  2.109842     37.86   \n",
       "2  7.2574      52.0  8.288136   1.073446       496.0  2.802260     37.85   \n",
       "3  5.6431      52.0  5.817352   1.073059       558.0  2.547945     37.85   \n",
       "4  3.8462      52.0  6.281853   1.081081       565.0  2.181467     37.85   \n",
       "\n",
       "   Longitude  target  \n",
       "0    -122.23   4.526  \n",
       "1    -122.22   3.585  \n",
       "2    -122.24   3.521  \n",
       "3    -122.25   3.413  \n",
       "4    -122.25   3.422  "
      ]
     },
     "execution_count": 65,
     "metadata": {},
     "output_type": "execute_result"
    }
   ],
   "source": [
    "# Put the dataset along with the target variable in a pandas dataframe\n",
    "data = pd.DataFrame(housing.data, columns=housing.feature_names)\n",
    "# Add target to data\n",
    "data['target'] = housing['target']\n",
    "data.head()"
   ]
  },
  {
   "cell_type": "markdown",
   "metadata": {
    "pycharm": {
     "name": "#%% md\n"
    }
   },
   "source": [
    "### Part 1a : Check for missing values in the dataset\n",
    "\n",
    "The dataset might have missing values represented by a `NaN`. Check if the dataset has such missing values."
   ]
  },
  {
   "cell_type": "code",
   "execution_count": 66,
   "metadata": {
    "deletable": false,
    "nbgrader": {
     "cell_type": "code",
     "checksum": "676197ad93aa1aa19b1e3898da4c017c",
     "grade": false,
     "grade_id": "p1a",
     "locked": false,
     "schema_version": 3,
     "solution": true,
     "task": false
    },
    "pycharm": {
     "name": "#%%\n"
    },
    "tags": []
   },
   "outputs": [],
   "source": [
    "# Check for missing values\n",
    "def is_null(dataframe):\n",
    "    \"\"\"\n",
    "    This function takes as input a pandas dataframe and outputs whether the\n",
    "    dataframe has missing values. Missing values can be detected by checking\n",
    "    for the presence of None or NaN. inf or -inf must also be treated as a missing value.\n",
    "\n",
    "    Input:\n",
    "        dataframe: Pandas dataframe\n",
    "    Output:\n",
    "        Return True is there are missing value in the dataframe. If not, return False.\n",
    "    \"\"\"\n",
    "    return np.nan in dataframe.values or np.inf in dataframe.values or np.NINF in dataframe.values\n",
    "    raise NotImplementedError()"
   ]
  },
  {
   "cell_type": "code",
   "execution_count": 67,
   "metadata": {
    "deletable": false,
    "editable": false,
    "nbgrader": {
     "cell_type": "code",
     "checksum": "b933622008a9e4a077e1b2a8c239554e",
     "grade": true,
     "grade_id": "p1a-test",
     "locked": true,
     "points": 1,
     "schema_version": 3,
     "solution": false,
     "task": false
    },
    "pycharm": {
     "name": "#%%\n"
    },
    "tags": []
   },
   "outputs": [
    {
     "name": "stdout",
     "output_type": "stream",
     "text": [
      "The data has no missing values.\n"
     ]
    }
   ],
   "source": [
    "# === DO NOT MOVE/DELETE ===\n",
    "# This cell is used as a placeholder for autograder script injection.\n",
    "\n",
    "# This dataset has no null values; you can run this cell as a sanity check.\n",
    "print(f\"The data has{'' if is_null(data) else ' no'} missing values.\")\n",
    "assert not is_null(data)"
   ]
  },
  {
   "cell_type": "markdown",
   "metadata": {
    "pycharm": {
     "name": "#%% md\n"
    },
    "tags": []
   },
   "source": [
    "### Part 1b: Studying the distribution of the target variable\n",
    "\n",
    "Plot the histogram of the target variable over a fixed number of bins (say, 30).\n",
    "\n",
    "Example histogram output:\n",
    "\n",
    "![Target histogram](https://jeffcui.com/misc/target_histogram.png)\n",
    "\n",
    "Hint: Use the histogram plotting function available in Seaborn in Matplotlib."
   ]
  },
  {
   "cell_type": "code",
   "execution_count": 68,
   "metadata": {
    "deletable": false,
    "nbgrader": {
     "cell_type": "code",
     "checksum": "b8d012221610349c7d2434b577a4ce32",
     "grade": true,
     "grade_id": "p1b",
     "locked": false,
     "points": 1,
     "schema_version": 3,
     "solution": true,
     "task": false
    },
    "pycharm": {
     "name": "#%%\n"
    },
    "tags": []
   },
   "outputs": [
    {
     "data": {
      "text/plain": [
       "<AxesSubplot:xlabel='target', ylabel='Count'>"
      ]
     },
     "execution_count": 68,
     "metadata": {},
     "output_type": "execute_result"
    },
    {
     "data": {
      "image/png": "[encoded data removed]",
      "text/plain": [
       "<Figure size 432x288 with 1 Axes>"
      ]
     },
     "metadata": {
      "needs_background": "light"
     },
     "output_type": "display_data"
    }
   ],
   "source": [
    "# Plot histogram of target variable\n",
    "\n",
    "# YOUR CODE HERE\n",
    "sns.histplot(data[\"target\"], bins=30)"
   ]
  },
  {
   "cell_type": "markdown",
   "metadata": {
    "pycharm": {
     "name": "#%% md\n"
    }
   },
   "source": [
    "### Part 1c: Plotting the correlation matrix\n",
    "Given the dataset stored in the `data` variable, plot the correlation matrix for the dataset. The dataset has 9 variables (8 features and one target variable) and thus, the correlation matrix must have a size of `9x9`.\n",
    "\n",
    "Hint: You may use the correlation matrix computation of a dataset provided by the `pandas` library.\n",
    "\n",
    "Link: [What is a correlation matrix?](https://www.displayr.com/what-is-a-correlation-matrix/)"
   ]
  },
  {
   "cell_type": "code",
   "execution_count": 69,
   "metadata": {
    "deletable": false,
    "nbgrader": {
     "cell_type": "code",
     "checksum": "b083172c548f71f3f9515e487a868fa1",
     "grade": false,
     "grade_id": "p1c",
     "locked": false,
     "schema_version": 3,
     "solution": true,
     "task": false
    },
    "pycharm": {
     "name": "#%%\n"
    },
    "tags": []
   },
   "outputs": [
    {
     "data": {
      "text/plain": [
       "<AxesSubplot:>"
      ]
     },
     "execution_count": 69,
     "metadata": {},
     "output_type": "execute_result"
    },
    {
     "data": {
      "image/png": "[encoded data removed]",
      "text/plain": [
       "<Figure size 432x288 with 2 Axes>"
      ]
     },
     "metadata": {
      "needs_background": "light"
     },
     "output_type": "display_data"
    }
   ],
   "source": [
    "# Correlation matrix\n",
    "def get_correlation_matrix(dataframe):\n",
    "    \"\"\"\n",
    "    Given a pandas dataframe, obtain the correlation matrix\n",
    "    computing the correlation between the entities in the dataset.\n",
    "\n",
    "    Input:\n",
    "        dataframe: Pandas dataframe\n",
    "    Output:\n",
    "        Return the correlation matrix as a pandas dataframe, rounded off to 2 decimal places.\n",
    "    \"\"\"\n",
    "    # YOUR CODE HERE\n",
    "    corrM = data.corr()\n",
    "    return corrM\n",
    "    raise NotImplementedError()\n",
    "\n",
    "# Plot the correlation matrix\n",
    "correlation_matrix = get_correlation_matrix(data)\n",
    "# annot = True to print the values inside the square\n",
    "sns.heatmap(data=correlation_matrix, annot=True)"
   ]
  },
  {
   "cell_type": "code",
   "execution_count": 70,
   "metadata": {
    "deletable": false,
    "editable": false,
    "nbgrader": {
     "cell_type": "code",
     "checksum": "deeb1bce3582f0d0f8ac169145d4838f",
     "grade": true,
     "grade_id": "p1c-test",
     "locked": true,
     "points": 1,
     "schema_version": 3,
     "solution": false,
     "task": false
    },
    "pycharm": {
     "name": "#%%\n"
    },
    "tags": []
   },
   "outputs": [],
   "source": [
    "# === DO NOT MOVE/DELETE ===\n",
    "# This cell is used as a placeholder for autograder script injection.\n",
    "\n",
    "# You can check your output against the expected correlation matrix below:\n",
    "ground_truth = np.array([\n",
    "    [1.0, -0.12, 0.33, -0.06, 0.0, 0.02, -0.08, -0.02, 0.69],\n",
    "    [-0.12, 1.0, -0.15, -0.08, -0.3, 0.01, 0.01, -0.11, 0.11],\n",
    "    [0.33, -0.15, 1.0, 0.85, -0.07, 0.0, 0.11, -0.03, 0.15],\n",
    "    [-0.06, -0.08, 0.85, 1.0, -0.07, -0.01, 0.07, 0.01, -0.05],\n",
    "    [0.0, -0.3, -0.07, -0.07, 1.0, 0.07, -0.11, 0.1, -0.02],\n",
    "    [0.02, 0.01, 0.0, -0.01, 0.07, 1.0, 0.0, 0.0, -0.02],\n",
    "    [-0.08, 0.01, 0.11, 0.07, -0.11, 0.0, 1.0, -0.92, -0.14],\n",
    "    [-0.02, -0.11, -0.03, 0.01, 0.1, 0.0, -0.92, 1.0, -0.05],\n",
    "    [0.69, 0.11, 0.15, -0.05, -0.02, -0.02, -0.14, -0.05, 1.0],\n",
    "])\n",
    "assert np.allclose(ground_truth, get_correlation_matrix(data).to_numpy(), rtol=1e-2, atol=1e-2)"
   ]
  },
  {
   "cell_type": "markdown",
   "metadata": {
    "pycharm": {
     "name": "#%% md\n"
    }
   },
   "source": [
    "### Part 1d: Extracting relevant variables\n",
    "\n",
    "Based on the correlation matrix obtained in the previous part, identify the top-4 most relevant features from the dataset for predicting the target variable.\n",
    "\n",
    "The top-4 most relevant features are MedInc, AveRooms, HouseAge, AveOccup."
   ]
  },
  {
   "cell_type": "markdown",
   "metadata": {
    "pycharm": {
     "name": "#%% md\n"
    }
   },
   "source": [
    "## Part 2: Data Manipulation\n",
    "\n",
    "This section is focused on arranging the dataset in a format suitable for training the linear regression model."
   ]
  },
  {
   "cell_type": "markdown",
   "metadata": {
    "pycharm": {
     "name": "#%% md\n"
    }
   },
   "source": [
    "### Part 2a: Normalize the dataset\n",
    "\n",
    "Find the mean and standard deviation corresponding to each feature and target variable in the dataset. Use the values of the mean and standard deviation to normalize the dataset."
   ]
  },
  {
   "cell_type": "code",
   "execution_count": 71,
   "metadata": {
    "deletable": false,
    "nbgrader": {
     "cell_type": "code",
     "checksum": "71860eb9c74a47052a1d855b229b0083",
     "grade": false,
     "grade_id": "p2a",
     "locked": false,
     "schema_version": 3,
     "solution": true,
     "task": false
    },
    "pycharm": {
     "name": "#%%\n"
    },
    "tags": []
   },
   "outputs": [],
   "source": [
    "features = np.concatenate([data[name].to_numpy()[:, None] for name in housing['feature_names']], axis=1)\n",
    "target = housing['target']\n",
    "\n",
    "# Normalize data\n",
    "def normalize(features, target):\n",
    "\n",
    "    for i in range(len(features[0])):\n",
    "        features[:,i] = (features[:,i] - features[:,i].mean())/features[:,i].std()\n",
    "\n",
    "    target = (target - target.mean())/target.std()\n",
    "\n",
    "    return features,target\n",
    "\n",
    "    raise NotImplementedError()\n",
    "\n",
    "features_normalized, target_normalized = normalize(features, target)"
   ]
  },
  {
   "cell_type": "code",
   "execution_count": 72,
   "metadata": {
    "deletable": false,
    "editable": false,
    "nbgrader": {
     "cell_type": "code",
     "checksum": "6cd6918ed1d597848bbd2c42e3eee9de",
     "grade": true,
     "grade_id": "p2a-test",
     "locked": true,
     "points": 1,
     "schema_version": 3,
     "solution": false,
     "task": false
    },
    "pycharm": {
     "name": "#%%\n"
    },
    "tags": []
   },
   "outputs": [],
   "source": [
    "\n",
    "# === DO NOT MOVE/DELETE ===\n",
    "# This cell is used as a placeholder for autograder script injection.\n",
    "assert all(np.abs(features_normalized.mean(axis=0)) < 1e-2), \"Mean should be close to 0\"\n",
    "assert all(np.abs(features_normalized.std(axis=0) - 1) < 1e-2), \"Standard deviation should be close to 1\"\n",
    "assert np.abs(target_normalized.mean(axis=0)) < 1e-2, \"Mean should be close to 0\"\n",
    "assert np.abs(target_normalized.std(axis=0) - 1) < 1e-2, \"Standard deviation should be close to 1\""
   ]
  },
  {
   "cell_type": "markdown",
   "metadata": {
    "pycharm": {
     "name": "#%% md\n"
    }
   },
   "source": [
    "### Part 2b: Train-Test Split\n",
    "\n",
    "Use the train-test split function from `sklearn` and execute a 80-20 train-test split of the dataset."
   ]
  },
  {
   "cell_type": "code",
   "execution_count": 73,
   "metadata": {
    "deletable": false,
    "nbgrader": {
     "cell_type": "code",
     "checksum": "e24ac49c957cd3d0a2b12fe65992c0da",
     "grade": false,
     "grade_id": "p2b",
     "locked": false,
     "schema_version": 3,
     "solution": true,
     "task": false
    },
    "pycharm": {
     "name": "#%%\n"
    },
    "tags": []
   },
   "outputs": [],
   "source": [
    "# YOUR CODE HERE\n",
    "from sklearn.model_selection import train_test_split\n",
    "\n",
    "X_train, X_test, Y_train, Y_test = train_test_split(features_normalized, target_normalized, train_size = 0.8)"
   ]
  },
  {
   "cell_type": "code",
   "execution_count": 74,
   "metadata": {
    "deletable": false,
    "editable": false,
    "nbgrader": {
     "cell_type": "code",
     "checksum": "6205e4ce42238093a9f51eca8c65f5a7",
     "grade": true,
     "grade_id": "p2b-test",
     "locked": true,
     "points": 1,
     "schema_version": 3,
     "solution": false,
     "task": false
    },
    "pycharm": {
     "name": "#%%\n"
    },
    "tags": []
   },
   "outputs": [
    {
     "name": "stdout",
     "output_type": "stream",
     "text": [
      "(16512, 8)\n",
      "(4128, 8)\n",
      "(16512,)\n",
      "(4128,)\n"
     ]
    }
   ],
   "source": [
    "# === DO NOT MOVE/DELETE ===\n",
    "# This cell is used as a placeholder for autograder script injection.\n",
    "\n",
    "# Sanity checking:\n",
    "print(X_train.shape)\n",
    "print(X_test.shape)\n",
    "print(Y_train.shape)\n",
    "print(Y_test.shape)"
   ]
  },
  {
   "cell_type": "markdown",
   "metadata": {
    "pycharm": {
     "name": "#%% md\n"
    }
   },
   "source": [
    "## Part 3: Linear Regression\n",
    "\n",
    "In this part, a linear regression model is used to fit the dataset loaded and normalized above."
   ]
  },
  {
   "cell_type": "markdown",
   "metadata": {
    "pycharm": {
     "name": "#%% md\n"
    }
   },
   "source": [
    "### Part 3a: Code for Linear Regression\n",
    "Implement a closed-form solution for ordinary least squares linear regression in `MyLinearRegression`, and print out the RMSE and $R^2$ between the ground truth and the model prediction."
   ]
  },
  {
   "cell_type": "code",
   "execution_count": 75,
   "metadata": {
    "deletable": false,
    "nbgrader": {
     "cell_type": "code",
     "checksum": "874d0e119337f0c28ef1696777ff83f9",
     "grade": true,
     "grade_id": "p3a",
     "locked": false,
     "points": 1,
     "schema_version": 3,
     "solution": true,
     "task": false
    },
    "pycharm": {
     "name": "#%%\n"
    },
    "tags": []
   },
   "outputs": [],
   "source": [
    "class MyLinearRegression:\n",
    "    def __init__(self):\n",
    "        self.theta = None\n",
    "        self.W = None\n",
    "    \n",
    "    def fit(self, X, Y):\n",
    "        # Given X and Y, compute theta using the closed-form solution for linear regression.\n",
    "        # YOUR CODE HERE\n",
    "\n",
    "        column = np.ones((len(X),1))\n",
    "        X = np.append(X,column, axis=1)\n",
    "\n",
    "        Xt = np.transpose(X)\n",
    "\n",
    "        W = np.matmul(np.linalg.inv(np.matmul(Xt,X)),np.matmul(Xt,Y))\n",
    "\n",
    "        self.theta = W[-1]\n",
    "        self.W = W[:-1]\n",
    "        return W\n",
    "        raise NotImplementedError()\n",
    "    \n",
    "    def predict(self, X):\n",
    "        # Predict Y for a given X\n",
    "        # YOUR CODE HERE\n",
    "        return np.dot(X,self.W) + self.theta\n",
    "        raise NotImplementedError()"
   ]
  },
  {
   "cell_type": "code",
   "execution_count": 76,
   "metadata": {
    "pycharm": {
     "name": "#%%\n"
    }
   },
   "outputs": [
    {
     "data": {
      "text/plain": [
       "array([ 0.70590566,  0.10470833, -0.20177254,  0.23504992, -0.00156039,\n",
       "       -0.03131917, -0.77621997, -0.75156345, -0.0024601 ])"
      ]
     },
     "execution_count": 76,
     "metadata": {},
     "output_type": "execute_result"
    }
   ],
   "source": [
    "# Train the model on (X_train, Y_train) using Linear Regression \n",
    "my_model = MyLinearRegression()\n",
    "my_model.fit(X_train, Y_train)"
   ]
  },
  {
   "cell_type": "code",
   "execution_count": 77,
   "metadata": {
    "pycharm": {
     "name": "#%%\n"
    }
   },
   "outputs": [
    {
     "name": "stdout",
     "output_type": "stream",
     "text": [
      "The model performance for training set\n",
      "--------------------------------------\n",
      "RMSE is 0.6266691251111148\n",
      "R2 score is 0.6028927820797623\n",
      "\n",
      "\n",
      "The model performance for testing set\n",
      "--------------------------------------\n",
      "RMSE is 0.6315196824041804\n",
      "R2 score is 0.6177097919203134\n"
     ]
    }
   ],
   "source": [
    "from sklearn.metrics import mean_squared_error, r2_score\n",
    "\n",
    "# Compute train RMSE using (X_train, Y_train)\n",
    "y_train_predict = my_model.predict(X_train)\n",
    "train_rmse = (np.sqrt(mean_squared_error(Y_train, y_train_predict)))\n",
    "train_r2 = r2_score(Y_train, y_train_predict)\n",
    "print(\"The model performance for training set\")\n",
    "print(\"--------------------------------------\")\n",
    "print('RMSE is {}'.format(train_rmse))\n",
    "print('R2 score is {}'.format(train_r2))\n",
    "print(\"\\n\")\n",
    "\n",
    "# Compute test RMSE using (X_test, Y_test)\n",
    "y_test_predict = my_model.predict(X_test)\n",
    "test_rmse = (np.sqrt(mean_squared_error(Y_test, y_test_predict)))\n",
    "test_r2 = r2_score(Y_test, y_test_predict)\n",
    "print(\"The model performance for testing set\")\n",
    "print(\"--------------------------------------\")\n",
    "print('RMSE is {}'.format(test_rmse))\n",
    "print('R2 score is {}'.format(test_r2))"
   ]
  },
  {
   "cell_type": "markdown",
   "metadata": {
    "pycharm": {
     "name": "#%% md\n"
    }
   },
   "source": [
    "### Part 3b: Compare with LinearRegression from sklearn.linear_model\n",
    "\n",
    "Use LinearRegression from the `sklearn` package to fit the dataset and compare the results obtained with your own implementaion of Linear Regression.\n",
    "\n",
    "The linear regressor should be named `model` for the cells below to run properly."
   ]
  },
  {
   "cell_type": "code",
   "execution_count": 78,
   "metadata": {
    "deletable": false,
    "nbgrader": {
     "cell_type": "code",
     "checksum": "2625c21f986f722c490d8fd6a3299db8",
     "grade": true,
     "grade_id": "p3b",
     "locked": false,
     "points": 1,
     "schema_version": 3,
     "solution": true,
     "task": false
    },
    "pycharm": {
     "name": "#%%\n"
    },
    "tags": []
   },
   "outputs": [],
   "source": [
    "# YOUR CODE HERE\n",
    "from sklearn.linear_model import LinearRegression\n",
    "model = LinearRegression().fit(X_train,Y_train)\n"
   ]
  },
  {
   "cell_type": "code",
   "execution_count": 79,
   "metadata": {
    "pycharm": {
     "name": "#%%\n"
    }
   },
   "outputs": [
    {
     "name": "stdout",
     "output_type": "stream",
     "text": [
      "The model performance for training set\n",
      "--------------------------------------\n",
      "RMSE is 0.6266691251111148\n",
      "R2 score is 0.6028927820797623\n",
      "\n",
      "\n",
      "The model performance for testing set\n",
      "--------------------------------------\n",
      "RMSE is 0.6315196824041804\n",
      "R2 score is 0.6177097919203134\n"
     ]
    }
   ],
   "source": [
    "# model evaluation for training set\n",
    "y_train_predict = model.predict(X_train)\n",
    "sklearn_train_rmse = (np.sqrt(mean_squared_error(Y_train, y_train_predict)))\n",
    "sklearn_train_r2 = r2_score(Y_train, y_train_predict)\n",
    "\n",
    "print(\"The model performance for training set\")\n",
    "print(\"--------------------------------------\")\n",
    "print('RMSE is {}'.format(sklearn_train_rmse))\n",
    "print('R2 score is {}'.format(sklearn_train_r2))\n",
    "print(\"\\n\")\n",
    "\n",
    "# model evaluation for testing set\n",
    "y_test_predict = model.predict(X_test)\n",
    "sklearn_test_rmse = (np.sqrt(mean_squared_error(Y_test, y_test_predict)))\n",
    "sklearn_test_r2 = r2_score(Y_test, y_test_predict)\n",
    "\n",
    "print(\"The model performance for testing set\")\n",
    "print(\"--------------------------------------\")\n",
    "print('RMSE is {}'.format(sklearn_test_rmse))\n",
    "print('R2 score is {}'.format(sklearn_test_r2))"
   ]
  },
  {
   "cell_type": "markdown",
   "metadata": {
    "pycharm": {
     "name": "#%% md\n"
    }
   },
   "source": [
    "### Part 3c: Analysis Linear Regression Performance\n",
    "\n",
    "In this section, provide the observed difference in performance along with an explanation of the following:\n",
    "- Difference between training between unnormalized and normalized data.\n",
    "- Difference between training on all features versus training on the top-5 most relevant features in the dataset.\n",
    "- Difference between (1) training on all features (unnormalized), (2) training on top-4 unnormalized features, and (3) training on top-4 normalized features.\n",
    "\n",
    "Write your answer below."
   ]
  },
  {
   "cell_type": "code",
   "execution_count": 84,
   "metadata": {
    "pycharm": {
     "name": "#%%\n"
    }
   },
   "outputs": [
    {
     "name": "stdout",
     "output_type": "stream",
     "text": [
      "The model performance for training set\n",
      "--------------------------------------\n",
      "RMSE is 0.7186846170820259\n",
      "R2 score is 0.607328701848081\n",
      "\n",
      "\n",
      "The model performance for testing set\n",
      "--------------------------------------\n",
      "RMSE is 0.7478294402580221\n",
      "R2 score is 0.5993031256212871\n"
     ]
    }
   ],
   "source": [
    "features = np.concatenate([data[name].to_numpy()[:, None] for name in housing['feature_names']], axis=1)\n",
    "target = housing['target']\n",
    "\n",
    "\n",
    "X_train, X_test, Y_train, Y_test = train_test_split(features, target, train_size = 0.8)\n",
    "\n",
    "model = LinearRegression().fit(X_train,Y_train)\n",
    "y_train_predict = model.predict(X_train)\n",
    "sklearn_train_rmse = (np.sqrt(mean_squared_error(Y_train, y_train_predict)))\n",
    "sklearn_train_r2 = r2_score(Y_train, y_train_predict)\n",
    "\n",
    "print(\"The model performance for training set\")\n",
    "print(\"--------------------------------------\")\n",
    "print('RMSE is {}'.format(sklearn_train_rmse))\n",
    "print('R2 score is {}'.format(sklearn_train_r2))\n",
    "print(\"\\n\")\n",
    "\n",
    "# model evaluation for testing set\n",
    "y_test_predict = model.predict(X_test)\n",
    "sklearn_test_rmse = (np.sqrt(mean_squared_error(Y_test, y_test_predict)))\n",
    "sklearn_test_r2 = r2_score(Y_test, y_test_predict)\n",
    "\n",
    "print(\"The model performance for testing set\")\n",
    "print(\"--------------------------------------\")\n",
    "print('RMSE is {}'.format(sklearn_test_rmse))\n",
    "print('R2 score is {}'.format(sklearn_test_r2))"
   ]
  },
  {
   "cell_type": "markdown",
   "metadata": {
    "pycharm": {
     "name": "#%% md\n"
    }
   },
   "source": [
    "In the unnormalized data, the RMSE is higher. This implies that the predicted value is further from the actual values. The R2 scores are similar implying that both models\n",
    "account for a similar varience."
   ]
  },
  {
   "cell_type": "code",
   "execution_count": 85,
   "metadata": {
    "pycharm": {
     "name": "#%%\n"
    }
   },
   "outputs": [
    {
     "name": "stdout",
     "output_type": "stream",
     "text": [
      "The model performance for training set\n",
      "--------------------------------------\n",
      "RMSE is 0.7805632904621855\n",
      "R2 score is 0.5427663656407771\n",
      "\n",
      "\n",
      "The model performance for testing set\n",
      "--------------------------------------\n",
      "RMSE is 0.7883246581914368\n",
      "R2 score is 0.5317007729082652\n"
     ]
    }
   ],
   "source": [
    "features = np.concatenate([data[name].to_numpy()[:, None] for name in housing['feature_names'][0:4] + [housing['feature_names'][6]]], axis=1)\n",
    "target = housing['target']\n",
    "\n",
    "\n",
    "X_train, X_test, Y_train, Y_test = train_test_split(features, target, train_size = 0.8)\n",
    "\n",
    "model = LinearRegression().fit(X_train,Y_train)\n",
    "y_train_predict = model.predict(X_train)\n",
    "sklearn_train_rmse = (np.sqrt(mean_squared_error(Y_train, y_train_predict)))\n",
    "sklearn_train_r2 = r2_score(Y_train, y_train_predict)\n",
    "\n",
    "print(\"The model performance for training set\")\n",
    "print(\"--------------------------------------\")\n",
    "print('RMSE is {}'.format(sklearn_train_rmse))\n",
    "print('R2 score is {}'.format(sklearn_train_r2))\n",
    "print(\"\\n\")\n",
    "\n",
    "# model evaluation for testing set\n",
    "y_test_predict = model.predict(X_test)\n",
    "sklearn_test_rmse = (np.sqrt(mean_squared_error(Y_test, y_test_predict)))\n",
    "sklearn_test_r2 = r2_score(Y_test, y_test_predict)\n",
    "\n",
    "print(\"The model performance for testing set\")\n",
    "print(\"--------------------------------------\")\n",
    "print('RMSE is {}'.format(sklearn_test_rmse))\n",
    "print('R2 score is {}'.format(sklearn_test_r2))"
   ]
  },
  {
   "cell_type": "markdown",
   "metadata": {
    "pycharm": {
     "name": "#%% md\n"
    }
   },
   "source": []
  },
  {
   "cell_type": "markdown",
   "metadata": {
    "pycharm": {
     "name": "#%% md\n"
    }
   },
   "source": [
    "When we only train the top-5 relevant features, the R2 score decreases and the RMSE increases. This is likely due to the fact that the model is only training on data that\n",
    "has less varience. This means it's overfitting for that data and not accounting for the varience in the other data.\n",
    "\n"
   ]
  },
  {
   "cell_type": "code",
   "execution_count": 86,
   "metadata": {
    "pycharm": {
     "name": "#%%\n"
    }
   },
   "outputs": [
    {
     "name": "stdout",
     "output_type": "stream",
     "text": [
      "The model performance for training set\n",
      "--------------------------------------\n",
      "RMSE is 0.7860838893506152\n",
      "R2 score is 0.5386280444285896\n",
      "\n",
      "\n",
      "The model performance for testing set\n",
      "--------------------------------------\n",
      "RMSE is 0.7801106237951789\n",
      "R2 score is 0.5320221870769073\n"
     ]
    }
   ],
   "source": [
    "features = np.concatenate([data[name].to_numpy()[:, None] for name in housing['feature_names'][0:4]], axis=1)\n",
    "target = housing['target']\n",
    "\n",
    "\n",
    "X_train, X_test, Y_train, Y_test = train_test_split(features, target, train_size = 0.8)\n",
    "\n",
    "model = LinearRegression().fit(X_train,Y_train)\n",
    "y_train_predict = model.predict(X_train)\n",
    "sklearn_train_rmse = (np.sqrt(mean_squared_error(Y_train, y_train_predict)))\n",
    "sklearn_train_r2 = r2_score(Y_train, y_train_predict)\n",
    "\n",
    "print(\"The model performance for training set\")\n",
    "print(\"--------------------------------------\")\n",
    "print('RMSE is {}'.format(sklearn_train_rmse))\n",
    "print('R2 score is {}'.format(sklearn_train_r2))\n",
    "print(\"\\n\")\n",
    "\n",
    "# model evaluation for testing set\n",
    "y_test_predict = model.predict(X_test)\n",
    "sklearn_test_rmse = (np.sqrt(mean_squared_error(Y_test, y_test_predict)))\n",
    "sklearn_test_r2 = r2_score(Y_test, y_test_predict)\n",
    "\n",
    "print(\"The model performance for testing set\")\n",
    "print(\"--------------------------------------\")\n",
    "print('RMSE is {}'.format(sklearn_test_rmse))\n",
    "print('R2 score is {}'.format(sklearn_test_r2))"
   ]
  },
  {
   "cell_type": "code",
   "execution_count": 87,
   "metadata": {
    "pycharm": {
     "name": "#%%\n"
    }
   },
   "outputs": [
    {
     "name": "stdout",
     "output_type": "stream",
     "text": [
      "The model performance for training set\n",
      "--------------------------------------\n",
      "RMSE is 0.6775321873625405\n",
      "R2 score is 0.5380683421740401\n",
      "\n",
      "\n",
      "The model performance for testing set\n",
      "--------------------------------------\n",
      "RMSE is 0.6902498758555163\n",
      "R2 score is 0.5351292962754159\n"
     ]
    }
   ],
   "source": [
    "features = np.concatenate([data[name].to_numpy()[:, None] for name in housing['feature_names'][0:4]], axis=1)\n",
    "target = housing['target']\n",
    "features_normalized, target_normalized = normalize(features, target)\n",
    "X_train, X_test, Y_train, Y_test = train_test_split(features_normalized, target_normalized, train_size = 0.8)\n",
    "\n",
    "model = LinearRegression().fit(X_train,Y_train)\n",
    "y_train_predict = model.predict(X_train)\n",
    "sklearn_train_rmse = (np.sqrt(mean_squared_error(Y_train, y_train_predict)))\n",
    "sklearn_train_r2 = r2_score(Y_train, y_train_predict)\n",
    "\n",
    "print(\"The model performance for training set\")\n",
    "print(\"--------------------------------------\")\n",
    "print('RMSE is {}'.format(sklearn_train_rmse))\n",
    "print('R2 score is {}'.format(sklearn_train_r2))\n",
    "print(\"\\n\")\n",
    "\n",
    "# model evaluation for testing set\n",
    "y_test_predict = model.predict(X_test)\n",
    "sklearn_test_rmse = (np.sqrt(mean_squared_error(Y_test, y_test_predict)))\n",
    "sklearn_test_r2 = r2_score(Y_test, y_test_predict)\n",
    "\n",
    "print(\"The model performance for testing set\")\n",
    "print(\"--------------------------------------\")\n",
    "print('RMSE is {}'.format(sklearn_test_rmse))\n",
    "print('R2 score is {}'.format(sklearn_test_r2))"
   ]
  },
  {
   "cell_type": "markdown",
   "metadata": {
    "pycharm": {
     "name": "#%% md\n"
    }
   },
   "source": [
    "When taking the top-4 normalized features, the R2 score is similar to the R2 score of the unnormalized features, however, the RMSE is much lower which means that the error\n",
    "of the predicted values are less. However, it seems that taking the normalized features of all features is the best way to train the data."
   ]
  },
  {
   "cell_type": "markdown",
   "metadata": {
    "deletable": false,
    "nbgrader": {
     "cell_type": "markdown",
     "checksum": "a371e76ca5caa75cbda4e6ea5cfb8c21",
     "grade": true,
     "grade_id": "p3c",
     "locked": false,
     "points": 1,
     "schema_version": 3,
     "solution": true,
     "task": false
    },
    "pycharm": {
     "name": "#%% md\n"
    },
    "tags": []
   },
   "source": [
    "\n"
   ]
  }
 ],
 "metadata": {
  "kernelspec": {
   "display_name": "Python 3 (ipykernel)",
   "language": "python",
   "name": "python3"
  },
  "language_info": {
   "codemirror_mode": {
    "name": "ipython",
    "version": 3
   },
   "file_extension": ".py",
   "mimetype": "text/x-python",
   "name": "python",
   "nbconvert_exporter": "python",
   "pygments_lexer": "ipython3",
   "version": "3.9.12"
  },
  "vscode": {
   "interpreter": {
    "hash": "aee8b7b246df8f9039afb4144a1f6fd8d2ca17a180786b69acc140d282b71a49"
   }
  }
 },
 "nbformat": 4,
 "nbformat_minor": 4
}
